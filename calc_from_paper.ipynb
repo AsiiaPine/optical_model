{
 "cells": [
  {
   "cell_type": "code",
   "execution_count": 1,
   "metadata": {},
   "outputs": [],
   "source": [
    "import matplotlib.pyplot as plt\n",
    "import numpy as np\n",
    "import scipy as sp"
   ]
  },
  {
   "cell_type": "markdown",
   "metadata": {},
   "source": [
    "# Checking available packages for light simulation:\n",
    "luxpy - a science lib for light with pure documentation, which needs Full-Width-Half-Maximas and  alpha-factor(phosphor strengths) for LED simulation. I don't have one("
   ]
  },
  {
   "cell_type": "code",
   "execution_count": 2,
   "metadata": {},
   "outputs": [],
   "source": [
    "# Import module luxpy.spdbuild:\n",
    "# import luxpy.toolboxes.spdbuild as spb"
   ]
  },
  {
   "cell_type": "markdown",
   "metadata": {},
   "source": [
    "# Lambertian distribution simulation\n",
    "\n",
    "## Sampling from Cosine Distribution\n",
    "source: https://www.particleincell.com/2015/cosine-distribution/\n",
    "\n",
    "Instead, in order to model diffuse reflections correctly, we need to perform two steps:\n",
    "\n",
    "1. Sample component along the normal, $v_|$, from the cosine distribution \n",
    "2. Rotate the perpendicular component $v_⊥$ about a random 0:2π angle\n",
    "This is given by the following set of equations:\n",
    "\n",
    "$sin(\\theta) = \\sqrt{\\mathcal{R}_1}$\\\n",
    "$cos(\\theta) = \\sqrt{1- sin(\\theta)^2}$\\\n",
    "$\\phi = 2*\\pi*\\mathcal{R}_2$\\\n",
    "$v_1 = cos(\\theta)n$\\\n",
    "$v_2 = sin(\\theta)cos(\\phi)t_1$\\\n",
    "$v_3 = sin(\\theta)sin(\\phi)t_2$\\\n",
    "$v = v_1 + v_2 + v_3$\n",
    "\n",
    "where $\\mathcal{R}$ are two random numbers in the range of [0:1). The computation of cosine comes from the identity that $cos(\\theta)^2 + sin(\\theta)^2 = 1$.\n",
    "\n",
    "Numerically, this is written as follows:"
   ]
  },
  {
   "cell_type": "code",
   "execution_count": 3,
   "metadata": {},
   "outputs": [],
   "source": [
    "import math\n",
    "from random import random\n",
    "import matplotlib.pyplot as plt\n",
    "from mpl_toolkits.mplot3d import Axes3D\n",
    "import numpy as np"
   ]
  },
  {
   "cell_type": "code",
   "execution_count": 4,
   "metadata": {},
   "outputs": [],
   "source": [
    "# %matplotlib widget\n",
    "\n",
    "# plt.close(\"all\")\n",
    "# u = []\n",
    "# v = []\n",
    "# w = []\n",
    "\n",
    "# count = []\n",
    "# bin_theta = []\n",
    "# nbins = 45\n",
    "# delta_bin = 90/(nbins)\n",
    "    \n",
    "# #surface properties\n",
    "# tang1 = [1,0,0]\n",
    "# tang2 = [0,1,0]\n",
    "# norm =  [0,0,1]\n",
    "\n",
    "# #initialize data\n",
    "# for bin in range(0,nbins):\n",
    "#     count.append(0);\n",
    "#     bin_theta.append(bin*delta_bin)\n",
    "\n",
    "# # sample random points\n",
    "# for it in range(1,1000000):\n",
    "#     sin_theta = math.sqrt(random())    \n",
    "#     cos_theta = math.sqrt(1-sin_theta*sin_theta)\n",
    "\n",
    "#     #random in plane angle\n",
    "#     psi = random()*2*math.pi;\n",
    "    \n",
    "#     #three vector components\n",
    "#     a = sin_theta*math.cos(psi)\n",
    "#     b = sin_theta*math.sin(psi)\n",
    "#     c = cos_theta\n",
    "    \n",
    "#     #multiply by corresponding directions\n",
    "#     v1 = [a*n for n in tang1]\n",
    "#     v2 = [b*n for n in tang2]\n",
    "#     v3 = [c*n for n in norm]\n",
    "    \n",
    "#     #add up to get velocity, vel=v1+v2+v3\n",
    "#     vel = []\n",
    "#     for i in range(0,3):\n",
    "#         vel.append(v1[i]+v2[i]+v3[i])\n",
    "    \n",
    "#     #update histogram\n",
    "#     theta = math.acos(cos_theta)*180/math.pi;\n",
    "#     bin = int( (theta)/delta_bin)\n",
    "#     count[bin] += 1\n",
    "    \n",
    "#     #add every 100th particle to the visualization list\n",
    "#     if (it%1000==0):\n",
    "#         u.append(vel[0])\n",
    "#         v.append(vel[1])\n",
    "#         w.append(vel[2])\n",
    "    \n",
    "# #plot results\n",
    "# fig = plt.figure(figsize=(8,8))\n",
    "# ax = fig.add_subplot(211, projection='3d')\n",
    "# ax.scatter(u, v, w, c='r', marker='.')\n",
    "# ax.set_xlabel('u')\n",
    "# ax.set_ylabel('v')\n",
    "# ax.set_zlabel('w')\n",
    "\n",
    "# #divide by bin area\n",
    "# for i in range (nbins):\n",
    "#     t1 = (i)*delta_bin*math.pi/180\n",
    "#     t2 = (i+1)*delta_bin*math.pi/180\n",
    "#     A = 2*math.pi*((1-math.cos(t2))-(1-math.cos(t1)))\n",
    "#     count[i] = count[i]/A\n",
    "    \n",
    "# #normalize data\n",
    "# c0 = 0.5*(count[0]+count[1])\n",
    "# count[:] = [float(c) / c0 for c in count]\n",
    "# cos = [math.cos(th*math.pi/180) for th in bin_theta]\n",
    "\n",
    "# #add xy plot\n",
    "# ax2 = fig.add_subplot(212)\n",
    "# ax2.plot(bin_theta,count,c='r');\n",
    "# # plt.hold(True)\n",
    "# ax2.plot(bin_theta,cos,c='k')\n",
    "# ax2.set_xlabel('angle')\n",
    "# ax2.set_ylabel('normalized count')\n",
    "# plt.show()"
   ]
  },
  {
   "cell_type": "markdown",
   "metadata": {},
   "source": [
    "<img src=\"Lambertian_model_scheme.png\" width=\"500\">\n",
    "<!-- ![scheme_LED_PT](Lambertian_model_scheme.png\" width=\"500\" height=\"340\") -->"
   ]
  },
  {
   "cell_type": "markdown",
   "metadata": {},
   "source": [
    "### Assumptions: use 19-24 references\n",
    "1. I - normalized(since we have reference signal from second PT), therefore we don't need $I_0$"
   ]
  },
  {
   "cell_type": "markdown",
   "metadata": {},
   "source": [
    "<img src=\"LED_PT_blind_areas.png\" width=\"500\">"
   ]
  },
  {
   "cell_type": "code",
   "execution_count": 5,
   "metadata": {},
   "outputs": [],
   "source": [
    "# FROM OMRON documentation\n",
    "# l0 = 5.1 - 2*(0.4)\n",
    "y_shift = 0\n",
    "x_shift = 0.4\n",
    "\n",
    "# FROM article\n",
    "l0 = 3.5                      \n",
    "O_ff = 0\n",
    "w = 0.1\n",
    "\n",
    "# sides of Infrared LED\n",
    "S1  = 0.35 \n",
    "S2 = 0.35 \n",
    "\n",
    "# sides of LED metal platform (approx)\n",
    "dps1 = 0.1\n",
    "dps2 = 0.1\n",
    "\n",
    "# sides of phototransistor\n",
    "X = 0.22\n",
    "Y = 0.76\n",
    "\n",
    "# sides of PT metal platform (approx)\n",
    "dpx = 0.16\n",
    "dpx = 0.29"
   ]
  },
  {
   "cell_type": "markdown",
   "metadata": {},
   "source": [
    "### LED description"
   ]
  },
  {
   "cell_type": "code",
   "execution_count": 6,
   "metadata": {},
   "outputs": [],
   "source": [
    "from typing import Tuple\n",
    "\n",
    "\n",
    "def divide_surface(surface_size: Tuple[int, int], n_rows, n_columns):\n",
    "    '''\n",
    "    The function divides the surface by n_row, n_columns and returns matrix of centers of the windows in form (x_i, y_i)\n",
    "    '''\n",
    "    R, C = surface_size\n",
    "    r = R/n_columns\n",
    "    c = C/n_rows\n",
    "\n",
    "    # generator of coordinates of the windows centers\n",
    "    r_array = np.arange(r/2, R, r)\n",
    "    c_array = np.arange(c/2, C, c)\n",
    "\n",
    "    x_matrix = np.repeat(r_array[np.newaxis, :], repeats=n_rows, axis=0)\n",
    "    y_matrix = np.repeat(c_array[np.newaxis, :], repeats=n_columns, axis=0)\n",
    "\n",
    "    return np.moveaxis(np.array([x_matrix, y_matrix.T]), 0, -1)\n",
    "    # return np.array(np.rec.fromarrays([x_matrix, y_matrix.T]))\n",
    "\n",
    "def make_blindness_matrix(surface_shape: Tuple[int, int], blind_shape):\n",
    "    '''\n",
    "    Returns a true map matrix of size=blind_shape with 0 values. The matrix is located in the center of blindness matrix.\n",
    "    '''\n",
    "\n",
    "    n_rows, n_columns = surface_shape\n",
    "    blindness_matrix = np.ones(shape=(n_rows, n_columns))\n",
    "\n",
    "    k, l = blind_shape\n",
    "    start_row = (n_rows - k) // 2\n",
    "    end_row = start_row + k\n",
    "    start_col = (n_columns - l) // 2\n",
    "    end_col = start_col + l\n",
    "\n",
    "    # Matrix shows the Intensity of n LED sectors\n",
    "    blindness_matrix[start_row:end_row, start_col:end_col] = 0\n",
    "    return blindness_matrix"
   ]
  },
  {
   "cell_type": "code",
   "execution_count": 7,
   "metadata": {},
   "outputs": [
    {
     "data": {
      "text/plain": [
       "(3, 3)"
      ]
     },
     "execution_count": 7,
     "metadata": {},
     "output_type": "execute_result"
    }
   ],
   "source": [
    "# Number of sections of the LED\n",
    "n_rows = 5\n",
    "n_columns = 5\n",
    "n = n_rows * n_columns\n",
    "\n",
    "# Matrix of metal plate inside LED\n",
    "blind_shape = n_rows * 3 // 5, n_columns * 3 // 5\n",
    "blind_shape"
   ]
  },
  {
   "cell_type": "code",
   "execution_count": 8,
   "metadata": {},
   "outputs": [
    {
     "data": {
      "text/plain": [
       "array([[1., 1., 1., 1., 1.],\n",
       "       [1., 0., 0., 0., 1.],\n",
       "       [1., 0., 0., 0., 1.],\n",
       "       [1., 0., 0., 0., 1.],\n",
       "       [1., 1., 1., 1., 1.]])"
      ]
     },
     "execution_count": 8,
     "metadata": {},
     "output_type": "execute_result"
    }
   ],
   "source": [
    "LED_blindness_matrix = make_blindness_matrix((n_rows, n_columns), blind_shape)\n",
    "LED_blindness_matrix"
   ]
  },
  {
   "cell_type": "code",
   "execution_count": 9,
   "metadata": {},
   "outputs": [
    {
     "data": {
      "text/plain": [
       "(5, 5, 2)"
      ]
     },
     "execution_count": 9,
     "metadata": {},
     "output_type": "execute_result"
    }
   ],
   "source": [
    "LED_matrix = divide_surface((S1, S2), n_rows, n_columns)\n",
    "LED_matrix[:, :, 0] -= S1/2\n",
    "LED_matrix[:, :, 1] -= S2/2\n",
    "LED_matrix.shape\n",
    "# LED_matrix.shape, np.mean(LED_matrix[:, :][0]), np.mean(LED_matrix[:, :][1])"
   ]
  },
  {
   "cell_type": "markdown",
   "metadata": {},
   "source": [
    "## PT description"
   ]
  },
  {
   "cell_type": "code",
   "execution_count": 149,
   "metadata": {},
   "outputs": [
    {
     "data": {
      "text/plain": [
       "((38, 11, 2), 0.12499999999999996, 0.13500000000000004)"
      ]
     },
     "execution_count": 149,
     "metadata": {},
     "output_type": "execute_result"
    }
   ],
   "source": [
    "n_pt_rows = 38\n",
    "n_pt_columns = 11\n",
    "\n",
    "# There are two PT, therefore they are shifted\n",
    "PT_matrix = divide_surface((X, Y), n_pt_rows, n_pt_columns) \n",
    "PT_matrix[:, :, 0] += x_shift + X/2\n",
    "PT_matrix[:, :, 1] -= y_shift + Y/2\n",
    "PT_matrix.shape, np.mean(PT_matrix[:, :][0]), np.mean(PT_matrix[:, :][1])"
   ]
  },
  {
   "cell_type": "code",
   "execution_count": 150,
   "metadata": {},
   "outputs": [
    {
     "data": {
      "text/plain": [
       "((38, 11, 2), -0.4949999999999998, -0.48499999999999993)"
      ]
     },
     "execution_count": 150,
     "metadata": {},
     "output_type": "execute_result"
    }
   ],
   "source": [
    "# There are two PT, therefore they are shifted\n",
    "PT_matrix_ref = divide_surface((X, Y), n_pt_rows, n_pt_columns) \n",
    "PT_matrix_ref[:, :, 0] -= (x_shift + 3*X/2)\n",
    "PT_matrix_ref[:, :, 1] -= y_shift + Y/2\n",
    "PT_matrix_ref.shape, np.mean(PT_matrix_ref[:, :][0]), np.mean(PT_matrix_ref[:, :][1])"
   ]
  },
  {
   "cell_type": "code",
   "execution_count": 151,
   "metadata": {},
   "outputs": [],
   "source": [
    "# there is a metal plate on the PT, so lets consider it\n",
    "pt_blindness = np.ones(shape=(n_pt_rows, n_pt_columns))\n",
    "\n",
    "# area of the plate\n",
    "pt_blind_x = 8\n",
    "pt_blind_y = 15\n",
    "\n",
    "for i in range(pt_blindness.shape[0]):\n",
    "    for j in range(pt_blindness.shape[1]):\n",
    "        if pt_blind_x>=j and pt_blind_y >= i:\n",
    "            pt_blindness[i, j] = 0\n",
    "# pt_blindness"
   ]
  },
  {
   "cell_type": "markdown",
   "metadata": {},
   "source": [
    "## Проверим взаимное расположение LED и PT на плоскости XY"
   ]
  },
  {
   "cell_type": "code",
   "execution_count": 156,
   "metadata": {},
   "outputs": [
    {
     "data": {
      "text/plain": [
       "array([-0.52,  0.01])"
      ]
     },
     "execution_count": 156,
     "metadata": {},
     "output_type": "execute_result"
    }
   ],
   "source": [
    "PT_matrix_ref[int(n_pt_rows/2)][n_pt_columns -1]"
   ]
  },
  {
   "cell_type": "code",
   "execution_count": 205,
   "metadata": {},
   "outputs": [
    {
     "data": {
      "image/png": "[encoded data removed]",
      "text/plain": [
       "<Figure size 600x600 with 1 Axes>"
      ]
     },
     "metadata": {},
     "output_type": "display_data"
    }
   ],
   "source": [
    "fig, ax = plt.subplots(figsize=(6, 6))\n",
    "\n",
    "colors_ = [plt.cm.tab20(i) for i in np.arange(20)]\n",
    "ax.scatter(np.arange(20), np.zeros(20), c=colors_)\n",
    "plt.show()"
   ]
  },
  {
   "cell_type": "code",
   "execution_count": 275,
   "metadata": {},
   "outputs": [
    {
     "name": "stdout",
     "output_type": "stream",
     "text": [
      "[0.82607805 0.83625958 0.71367353 0.52946431 0.23794408 0.16728302] [0.65051551 0.71279962 0.64949248 0.89875119 0.21808345 0.10220514]\n"
     ]
    },
    {
     "data": {
      "image/png": "[encoded data removed]",
      "text/plain": [
       "<Figure size 600x600 with 1 Axes>"
      ]
     },
     "metadata": {},
     "output_type": "display_data"
    }
   ],
   "source": [
    "# Создаем график\n",
    "\n",
    "# csfont = {'fontname':'Times New Roman'}\n",
    "plt.rcParams[\"font.family\"] = \"Times New Roman\"\n",
    "\n",
    "fig, ax = plt.subplots(figsize=(6, 6))\n",
    "\n",
    "labels_colors = [plt.cm.tab20(4), plt.cm.tab20(0), plt.cm.tab20(2) , plt.cm.tab20(0)]\n",
    "scatter_list = []\n",
    "scatter_labels = []\n",
    "edge_color = \"#000001\"\n",
    "text_color = plt.cm.tab20(14)\n",
    "labels = [\"PT active cell\", \"PT passive cell\", \"LED active cell\", \"LED passive cell\"]\n",
    "colors = [\"red\", \"black\", \"red\", \"black\", \"orange\", \"indigo\"]\n",
    "map_list = {\n",
    "    \"PT reference\": 0,\n",
    "    \"PT reference passive cell\": 1,\n",
    "    \"PT cell\": 0,\n",
    "    \"PT passive cell\": 1,\n",
    "    \"LED cell\": 2,\n",
    "    \"LED passive cell\": 3,\n",
    "}\n",
    "scatter_list = [0]*len(labels)\n",
    "\n",
    "# Визуализируем матрицу 1\n",
    "for i in range(PT_matrix_ref.shape[0]):\n",
    "    for j in range(PT_matrix_ref.shape[1]):\n",
    "        x, y = PT_matrix_ref[i][j]\n",
    "        scatter_list[0] = ax.scatter(\n",
    "            x,\n",
    "            y,\n",
    "            color=labels_colors[map_list[\"PT reference\"]],\n",
    "            marker=\"s\",\n",
    "            s=100,\n",
    "            edgecolors=labels_colors[map_list[\"PT reference\"]] ,\n",
    "            alpha=0.8,\n",
    "            \n",
    "            # edgecolors=\"black\",\n",
    "            label=\"PT reference\",\n",
    "        )\n",
    "# Визуализируем матрицу 1\n",
    "for i in range(PT_matrix_ref.shape[0]):\n",
    "    for j in range(PT_matrix_ref.shape[1]):\n",
    "        x, y = PT_matrix_ref[i][j]\n",
    "        if pt_blindness[i, j] == 0:\n",
    "            scatter_list[1] = ax.scatter(\n",
    "                x,\n",
    "                y,\n",
    "                color=labels_colors[map_list[\"PT reference passive cell\"]],\n",
    "                marker=\"s\",\n",
    "                s=100,\n",
    "                alpha=0.8,\n",
    "                \n",
    "                edgecolors=labels_colors[map_list[\"PT reference passive cell\"]] ,\n",
    "\n",
    "                label=\"PT reference passive cell\",\n",
    "            )\n",
    "\n",
    "# Визуализируем матрицу 1\n",
    "for i in range(PT_matrix.shape[0]):\n",
    "    for j in range(PT_matrix.shape[1]):\n",
    "        x, y = PT_matrix[i][j]\n",
    "        ax.scatter(\n",
    "            x,\n",
    "            y,\n",
    "            color=labels_colors[map_list[\"PT cell\"]],\n",
    "            marker=\"s\",\n",
    "            s=100,\n",
    "            edgecolors=labels_colors[map_list[\"PT cell\"]] ,\n",
    "            alpha=0.8,\n",
    "            # edgecolors=\"black\",\n",
    "            label=\"PT cell\",\n",
    "        )\n",
    "for i in range(PT_matrix.shape[0]):\n",
    "    for j in range(PT_matrix.shape[1]):\n",
    "        x, y = PT_matrix[i][j]\n",
    "        if pt_blindness[i, j] == 0:\n",
    "            ax.scatter(\n",
    "                x, y, color=labels_colors[map_list[\"PT passive cell\"]], \n",
    "                marker=\"s\", \n",
    "                s=100, \n",
    "                edgecolors=labels_colors[map_list[\"PT passive cell\"]] ,\n",
    "                label=\"PT passive cell\"\n",
    "            )\n",
    "\n",
    "# Визуализируем матрицу 2\n",
    "for i in range(LED_matrix.shape[0]):\n",
    "    for j in range(LED_matrix.shape[1]):\n",
    "        x, y = LED_matrix[i][j]\n",
    "        scatter_list[2] = ax.scatter(\n",
    "            x,\n",
    "            y,\n",
    "            color=labels_colors[map_list[\"LED cell\"]],\n",
    "            marker=\"s\",\n",
    "            s=250,\n",
    "            alpha=0.8,\n",
    "        \n",
    "            edgecolors=labels_colors[map_list[\"LED cell\"]] ,\n",
    "            # alpha=0.8,\n",
    "            # edgecolors=\"black\",\n",
    "            label=\"LED cell\",\n",
    "        )\n",
    "for i in range(LED_matrix.shape[0]):\n",
    "    for j in range(LED_matrix.shape[1]):\n",
    "        x, y = LED_matrix[i][j]\n",
    "        if LED_blindness_matrix[i, j] == 0:\n",
    "            scatter_list[3] = ax.scatter(\n",
    "                x,\n",
    "                y,\n",
    "                color=labels_colors[map_list[\"LED passive cell\"]],\n",
    "                marker=\"s\",\n",
    "                s=250,\n",
    "                # alpha=0.8,\n",
    "                edgecolors=labels_colors[map_list[\"LED passive cell\"]] ,\n",
    "                \n",
    "                label=\"LED passive cell\",\n",
    "            )\n",
    "\n",
    "\n",
    "\n",
    "x, y = np.random.rand(2, len(colors))\n",
    "\n",
    "print(x, y)\n",
    "\n",
    "legend1 = ax.legend(scatter_list, labels, loc='upper right')\n",
    "\n",
    "ax.annotate(\"PT Reference\", xy=(PT_matrix_ref[0][int(n_pt_columns/2)]), color=text_color, \n",
    "            xytext=(-30,-16), textcoords=\"offset points\", weight='bold',)\n",
    "\n",
    "ax.annotate(\"PT Measuring\", xy=(PT_matrix[0][int(n_pt_columns/2)]), color=text_color, \n",
    "            xytext=(-30,-16), textcoords=\"offset points\", weight='bold',)\n",
    "\n",
    "ax.annotate(\"LED\", xy=(LED_matrix[0][int(n_columns/2)]), color=text_color, \n",
    "            xytext=(-10,-20), textcoords=\"offset points\", weight='bold',)\n",
    "\n",
    "\n",
    "ax.add_artist(legend1)\n",
    "\n",
    "ax.set_axis_off()\n",
    "ax.set_xlim((-0.8, 0.8))\n",
    "ax.set_ylim((-0.7, 0.7))\n",
    "\n",
    "# Отображаем график\n",
    "plt.show()"
   ]
  },
  {
   "cell_type": "code",
   "execution_count": 87,
   "metadata": {},
   "outputs": [
    {
     "data": {
      "text/plain": [
       "[<matplotlib.collections.PathCollection at 0x7fc2b0ee3f40>,\n",
       " <matplotlib.collections.PathCollection at 0x7fc2b0efa340>,\n",
       " <matplotlib.collections.PathCollection at 0x7fc2b0efa700>,\n",
       " <matplotlib.collections.PathCollection at 0x7fc2b0efaac0>,\n",
       " <matplotlib.collections.PathCollection at 0x7fc2b0efae80>,\n",
       " <matplotlib.collections.PathCollection at 0x7fc2b0f04280>]"
      ]
     },
     "execution_count": 87,
     "metadata": {},
     "output_type": "execute_result"
    }
   ],
   "source": [
    "scatter_list"
   ]
  },
  {
   "cell_type": "code",
   "execution_count": 152,
   "metadata": {},
   "outputs": [],
   "source": [
    "\n",
    "# # Создаем график\n",
    "# fig, ax = plt.subplots(figsize=(6,6))\n",
    "\n",
    "# labels_colors = ['red', 'orange', 'black', 'indigo']\n",
    "# # Визуализируем матрицу 1\n",
    "# for i in range(PT_matrix_ref.shape[0]):\n",
    "#     for j in range(PT_matrix_ref.shape[1]):\n",
    "#         x, y = PT_matrix_ref[i][j]\n",
    "#         scatter = ax.scatter(x, y, c=labels_colors[0],marker='s', s=100, edgecolors='black', label=\"PT reference\")\n",
    "#         if pt_blindness[i, j] == 0:\n",
    "#             ax.scatter(x, y, c=labels_colors[2], marker='s', s=100, label=\"PT reference passive cell\")\n",
    "    \n",
    "\n",
    "# # Визуализируем матрицу 1\n",
    "# for i in range(PT_matrix.shape[0]):\n",
    "#     for j in range(PT_matrix.shape[1]):\n",
    "#         x, y = PT_matrix[i][j]\n",
    "#         ax.scatter(x, y, c=labels_colors[0],marker='s', s=100, edgecolors='black', label=\"PT cell\")\n",
    "#         if pt_blindness[i, j] == 0:\n",
    "#             pt1 = ax.scatter(x, y, c=labels_colors[2], marker='s', s=100, label=\"PT passive cell\")\n",
    "\n",
    "\n",
    "# # Визуализируем матрицу 2\n",
    "# for i in range(LED_matrix.shape[0]):\n",
    "#     for j in range(LED_matrix.shape[1]):\n",
    "#         x, y = LED_matrix[i][j]\n",
    "#         im= ax.scatter(x, y, c=labels_colors[1], marker='s', s=300, edgecolors='black', label='LED cell')\n",
    "#         if LED_blindness_matrix[i, j] == 0:\n",
    "#             ax.scatter(x, y, c=labels_colors[3],marker='s', s=300, alpha=0.8, edgecolors='black', label=\"LED passive cell\")\n",
    "\n",
    "# ax.set_xlim((-0.7, 0.7))\n",
    "# ax.set_ylim((-0.7, 0.7))\n",
    "\n",
    "# ax.spines['top'].set_visible(False)\n",
    "# ax.spines['right'].set_visible(False)\n",
    "\n",
    "# # plt.legend()\n",
    "# # ax.spines['bottom'].set_visible(False)\n",
    "# # ax.spines['left'].set_visible(False)\n",
    "# # Отображаем график\n",
    "# plt.show()"
   ]
  },
  {
   "cell_type": "markdown",
   "metadata": {},
   "source": [
    "## Intensity calculation"
   ]
  },
  {
   "cell_type": "markdown",
   "metadata": {},
   "source": [
    "<img src=\"Radiation-intensity-with-distance.png\" width=500>\n",
    "\n",
    "$R = (x_l - x_p)^2 + (y_l - y_p)^2 + l_0 ^2$\n",
    "\n",
    "$h = |y_p - y_l|$\n",
    "\n",
    "$\\theta = \\arccos(\\frac{h}{\\sqrt{R}})$\n",
    "\n",
    "$I = I_0 * \\frac{l_0 \\sin{\\theta}}{2 \\pi R}$"
   ]
  },
  {
   "cell_type": "code",
   "execution_count": 14,
   "metadata": {},
   "outputs": [],
   "source": [
    "def calc_intensity(emitter_xy: [float, float],  receiver_xy: [float, float], l_0: float=3.5, I_0: float = 1.0):\n",
    "    x_l, y_l = emitter_xy\n",
    "    x_p, y_p = receiver_xy\n",
    "\n",
    "    R_2 = (x_l - x_p)**2 + (y_l - y_p)**2 + l_0**2\n",
    "    h = y_p - y_l\n",
    "    h = h*np.sign(h)\n",
    "    theta = np.arccos(h/np.sqrt(R_2))\n",
    "    # from my calculations\n",
    "    # return I_0*(np.sin(theta)**2)/(4*np.pi*R_2)\n",
    "    \n",
    "    # From the paper\n",
    "    return I_0*(np.sin(theta))/(4*np.pi*R_2/(2*l_0))\n",
    "\n",
    "\n",
    "def calc_intensity_matrix_to_point(pt_xy: [float, float], led_matrix, led_map=None, l_0: float=3.5, I_0: float = 1.0, y_max: float = None):\n",
    "\n",
    "    if led_map is None:\n",
    "        led_map = np.ones(shape=(led_matrix.shape[0], led_matrix.shape[1]))\n",
    "    \n",
    "    intensity = 0\n",
    "    for i in range(led_matrix.shape[0]):\n",
    "        for j in range(led_matrix.shape[1]):\n",
    "            x, y = led_matrix[i, j]\n",
    "            # print(y_max is None, y > y_max)\n",
    "            if y_max is None or y < y_max:\n",
    "                intensity+=calc_intensity(emitter_xy=led_matrix[i, j], receiver_xy=pt_xy) * led_map[i, j]\n",
    "    return intensity"
   ]
  },
  {
   "cell_type": "code",
   "execution_count": 15,
   "metadata": {},
   "outputs": [],
   "source": [
    "# intensity without blindness areas\n",
    "PT_intensity_full_led = np.zeros(shape=(38, 11))\n",
    "\n",
    "for i in range(PT_matrix.shape[0]):\n",
    "    for j in range(PT_matrix.shape[1]):\n",
    "        if pt_blind_x>i or pt_blind_y > j:\n",
    "            PT_intensity_full_led[i, j] =  calc_intensity_matrix_to_point(PT_matrix[i, j],LED_matrix, led_map=None, l_0=-1, I_0=0)"
   ]
  },
  {
   "cell_type": "code",
   "execution_count": 16,
   "metadata": {},
   "outputs": [],
   "source": [
    "# intensity with LED blindness areas\n",
    "PT_intensity = np.zeros(shape=(38, 11))\n",
    "\n",
    "for i in range(PT_matrix.shape[0]):\n",
    "    for j in range(PT_matrix.shape[1]):\n",
    "        if pt_blind_x>i or pt_blind_y > j:\n",
    "            PT_intensity[i, j] =  calc_intensity_matrix_to_point(PT_matrix[i, j],LED_matrix, led_map=LED_blindness_matrix, l_0=-1, I_0=0)"
   ]
  },
  {
   "cell_type": "code",
   "execution_count": 17,
   "metadata": {},
   "outputs": [],
   "source": [
    "# intensity with PT blindness areas\n",
    "PT_intensity_blind = np.multiply(pt_blindness, PT_intensity_full_led)\n",
    "\n",
    "# intensity with LED and PT blindness areas\n",
    "PT_intensity_double_blind = pt_blindness * PT_intensity"
   ]
  },
  {
   "cell_type": "code",
   "execution_count": 18,
   "metadata": {},
   "outputs": [
    {
     "data": {
      "image/png": "[encoded data removed]",
      "text/plain": [
       "<Figure size 3000x1000 with 8 Axes>"
      ]
     },
     "metadata": {},
     "output_type": "display_data"
    }
   ],
   "source": [
    "import matplotlib.pyplot as plt\n",
    "\n",
    "\n",
    "fig, axs = plt.subplots(figsize=(30,10), ncols=4)\n",
    "\n",
    "\n",
    "cax1 = axs[0].matshow(PT_intensity_full_led, interpolation='nearest', label='a')\n",
    "cax2 = axs[1].matshow(PT_intensity, interpolation='nearest', label='b')\n",
    "cax3 = axs[2].matshow(PT_intensity_blind, vmin=np.min(PT_intensity_full_led), label='c')\n",
    "cax4 = axs[3].matshow(PT_intensity_double_blind, interpolation='nearest', vmin=np.min(PT_intensity), label='d')\n",
    "\n",
    "labels = 'a', 'b', 'c', 'd'\n",
    "\n",
    "for ax, label in zip(axs, labels):\n",
    "    ax.set_title(label, fontsize = 50)\n",
    "\n",
    "fig.colorbar(cax1, ax=axs[0], label='$\\Phi$')\n",
    "fig.colorbar(cax2, ax=axs[1], label='$\\Phi$')\n",
    "fig.colorbar(cax3, ax=axs[2], label='$\\Phi$')\n",
    "fig.colorbar(cax4, ax=axs[3], label='$\\Phi$')\n",
    "axs[0].invert_yaxis()\n",
    "axs[1].invert_yaxis()\n",
    "axs[2].invert_yaxis()\n",
    "axs[3].invert_yaxis()"
   ]
  },
  {
   "cell_type": "code",
   "execution_count": 19,
   "metadata": {},
   "outputs": [
    {
     "data": {
      "image/png": "[encoded data removed]",
      "text/plain": [
       "<Figure size 3000x1000 with 8 Axes>"
      ]
     },
     "metadata": {},
     "output_type": "display_data"
    }
   ],
   "source": [
    "import matplotlib.pyplot as plt\n",
    "from matplotlib.ticker import FormatStrFormatter\n",
    "\n",
    "\n",
    "\n",
    "fig, axs = plt.subplots(figsize=(30,10), ncols=4)\n",
    "\n",
    "cax1 = axs[0].matshow(PT_intensity_full_led, interpolation='nearest', label='a')\n",
    "cax2 = axs[1].matshow(PT_intensity, interpolation='nearest', label='b')\n",
    "# cax3 = axs[2].matshow(PT_intensity_blind, interpolation='nearest',label='c')\n",
    "cax3 = axs[2].matshow(PT_intensity_blind, vmin=np.min(PT_intensity_full_led), label='c')\n",
    "cax4 = axs[3].matshow(PT_intensity_double_blind, interpolation='nearest', vmin=np.min(PT_intensity), label='d')\n",
    "\n",
    "labels = 'a', 'b', 'c', 'd'\n",
    "\n",
    "\n",
    "\n",
    "cf = plt.contourf(PT_intensity_blind, levels=(0, 2.5, 5, 7.5, 10))\n",
    "\n",
    "fig.colorbar(cax1, ax=axs[0], label='$\\Phi$')\n",
    "fig.colorbar(cax2, ax=axs[1], label='$\\Phi$')\n",
    "cb = fig.colorbar(cf, ax=axs[2], label='$\\Phi$')\n",
    "cb.set_ticklabels([0, 0.5, 1.00, round(np.min(PT_intensity_full_led), 2),round(np.max(PT_intensity_full_led), 2)])\n",
    "fig.colorbar(cax4, ax=axs[3], label='$\\Phi$')\n",
    "cb.formatter('%.2f')\n",
    "for ax, label in zip(axs, labels):\n",
    "    ax.set_title(label, fontsize = 50)\n",
    "    labels = [item.get_text() for item in ax.get_xticklabels()]\n",
    "    # Beat them into submission and set them back again\n",
    "    # ax.set_xticklabels([str(round(float(label), 2)) for label in labels])\n",
    "    # ax.yaxis.set_major_formatter(FormatStrFormatter('%.2f'))\n",
    "    \n",
    "axs[0].invert_yaxis()\n",
    "axs[1].invert_yaxis()\n",
    "axs[2].invert_yaxis()\n",
    "axs[3].invert_yaxis()"
   ]
  },
  {
   "cell_type": "code",
   "execution_count": 20,
   "metadata": {},
   "outputs": [
    {
     "data": {
      "text/plain": [
       "(0.06999999999999998, 0.06999999999999998)"
      ]
     },
     "execution_count": 20,
     "metadata": {},
     "output_type": "execute_result"
    }
   ],
   "source": [
    "dx, dy =  LED_matrix[1][1] - LED_matrix[0][0] \n",
    "dx, dy"
   ]
  },
  {
   "cell_type": "code",
   "execution_count": 21,
   "metadata": {},
   "outputs": [
    {
     "data": {
      "image/png": "[encoded data removed]",
      "text/plain": [
       "<Figure size 640x480 with 2 Axes>"
      ]
     },
     "metadata": {},
     "output_type": "display_data"
    }
   ],
   "source": [
    "\n",
    "# Создаем график\n",
    "fig, ax = plt.subplots()\n",
    "\n",
    "# Визуализируем матрицу 1\n",
    "for i in range(PT_matrix.shape[0]):\n",
    "    for j in range(PT_matrix.shape[1]):\n",
    "        x, y = PT_matrix[i][j]\n",
    "        im =ax.scatter(x, y, c=PT_intensity_double_blind[i, j],  marker='s', vmin=0.68, vmax=np.max(PT_intensity_double_blind))\n",
    "fig.colorbar(im, ax=ax)\n",
    "        # if pt_blindness[i, j] == 0:\n",
    "            # ax.scatter(x, y, c='black', s=100)\n",
    "\n",
    "# Визуализируем матрицу 2\n",
    "for i in range(LED_matrix.shape[0]):\n",
    "    for j in range(LED_matrix.shape[1]):\n",
    "        x, y = LED_matrix[i][j]\n",
    "        im= ax.scatter(x, y, c='orange', marker='s', s=500, edgecolors='black', linewidths=0.05)\n",
    "        if LED_blindness_matrix[i, j] == 0:\n",
    "            ax.scatter(x, y, c='indigo',marker='s', s=500, edgecolors='black', linewidths=0.05)\n",
    "# Настраиваем оси\n",
    "# ax.set_xlim([int(np.min(np.min(PT_matrix[:, :, 0], np.min(LED_matrix[:, :, 0])))), int(np.max(np.max(PT_matrix[:, :, 0], np.max(LED_matrix[:, :, 0]))))])\n",
    "# ax.set_ylim([np.min(np.min(PT_matrix[:, :, 1], np.min(LED_matrix[:, :, 1]))), np.max(np.max(PT_matrix[:, :, 1], np.max(LED_matrix[:, :, 1])))])\n",
    "\n",
    "# Отображаем график\n",
    "plt.show()"
   ]
  },
  {
   "cell_type": "markdown",
   "metadata": {},
   "source": [
    "# Calculation with integration"
   ]
  },
  {
   "cell_type": "code",
   "execution_count": 22,
   "metadata": {},
   "outputs": [],
   "source": [
    "# def opts_\n",
    "from scipy import integrate\n",
    "import numpy as np\n",
    "\n",
    "# use casadi\n",
    "\n",
    "def calc_intensity_integration(emitter_x: float, emitter_y: float,  receiver_x: float, receiver_y: float, l_0: float=3.5, I_0: float = 1.0):\n",
    "    x_l, y_l = emitter_x, emitter_y\n",
    "    x_p, y_p = receiver_x, receiver_y\n",
    "\n",
    "    R_2 = (x_l - x_p)**2 + (y_l - y_p)**2 + l_0**2\n",
    "    h = y_p - y_l\n",
    "    h = h*np.sign(h)\n",
    "    theta = np.arccos(h/np.sqrt(R_2))\n",
    "    # from my calculations\n",
    "    # return I_0*(np.sin(theta)**2)/(4*np.pi*R_2)\n",
    "    # From the paper\n",
    "    return I_0*(np.sin(theta))/(4*np.pi*R_2/(2*l_0))\n",
    "\n",
    "def calc_flux_on_area(source_matrix, receiver_xy, dx, dy):\n",
    "    x, y = receiver_xy\n",
    "    lims = [[-S1/2, S1/2], [-S2/2, S2/2], [x-dx/2, x+dx/2], [y-dy/2, y+dy/2]]\n",
    "\n",
    "    # for i in range(source_matrix.shape[0]):\n",
    "    #     for j in range(source_matrix.shape[1]):\n",
    "    #         print(source_matrix[i, j], receiver_xy)\n",
    "    return integrate.nquad(calc_intensity_integration, ranges=lims)\n",
    "    "
   ]
  },
  {
   "cell_type": "code",
   "execution_count": 23,
   "metadata": {},
   "outputs": [],
   "source": [
    "# # def calc_flux(intensity_matrix, dx: float, dy: float):\n",
    "# from tqdm import tqdm\n",
    "\n",
    "# flux = np.zeros_like(PT_intensity)\n",
    "# pbar = tqdm(total=PT_matrix.shape[0]*PT_matrix.shape[1])\n",
    "\n",
    "# dx, dy =  PT_matrix[1, 1, :] - PT_matrix[0, 0, :] \n",
    "# # print(dx, dy)\n",
    "# for i in tqdm(range(PT_matrix.shape[0])):\n",
    "#     for j in range(PT_matrix.shape[1]):\n",
    "#         result = calc_flux_on_area(LED_matrix, PT_matrix[i, j], dx, dy)\n",
    "#         flux[i, j] = result[0]\n",
    "#         pbar.update(1)"
   ]
  },
  {
   "cell_type": "code",
   "execution_count": 24,
   "metadata": {},
   "outputs": [],
   "source": [
    "\n",
    "# fig, ax = plt.subplots(figsize=(30,10))\n",
    "\n",
    "# cax = ax.matshow(flux, interpolation='nearest')\n",
    "# fig.colorbar(cax, ax=ax)\n",
    "# ax.invert_yaxis()"
   ]
  },
  {
   "cell_type": "markdown",
   "metadata": {},
   "source": [
    "# Calculation of barrier"
   ]
  },
  {
   "cell_type": "code",
   "execution_count": 25,
   "metadata": {},
   "outputs": [],
   "source": [
    "def calc_angle_to_barrier_tip(pt_xy: [float, float], led_matrix: np.ndarray, barrier_y_pos:float, y_led_to_bar: float=1.75, y_led_to_pt: float=3.5, led_map=None, I_0: float = 1.0):\n",
    "    if led_map is None:\n",
    "        led_map = np.ones(shape=(led_matrix.shape[0], led_matrix.shape[1]))\n",
    "    \n",
    "    pt_pos = np.array([pt_xy[0], pt_xy[1], y_led_to_pt])\n",
    "    bar_pos = np.array([0, 0, y_led_to_bar])\n",
    "    bar_pos_norm = y_led_to_bar\n",
    "    \n",
    "    intensity = 0\n",
    "    for i in range(led_matrix.shape[0]):\n",
    "        for j in range(led_matrix.shape[1]):\n",
    "            led_pos = np.array([led_matrix[i, j][0], led_matrix[i, j][1], 0])\n",
    "            cos_theta = bar_pos*led_pos/(bar_pos_norm*np.linalg.norm(led_pos))\n",
    "            "
   ]
  },
  {
   "cell_type": "code",
   "execution_count": 48,
   "metadata": {},
   "outputs": [
    {
     "name": "stdout",
     "output_type": "stream",
     "text": [
      "[-1.40000000e-01 -7.00000000e-02 -2.77555756e-17  7.00000000e-02\n",
      "  1.40000000e-01]\n"
     ]
    }
   ],
   "source": [
    "# PT_matrix[:, 1][:, 1]\n",
    "# PT_matrix\n",
    "ld_ys = LED_matrix[:, 1][:, 1]\n",
    "print(ld_ys)"
   ]
  },
  {
   "cell_type": "code",
   "execution_count": 27,
   "metadata": {},
   "outputs": [
    {
     "name": "stdout",
     "output_type": "stream",
     "text": [
      "[-0.37 -0.35 -0.33 -0.31 -0.29 -0.27 -0.25 -0.23 -0.21 -0.19 -0.17 -0.15\n",
      " -0.13 -0.11 -0.09 -0.07 -0.05 -0.03 -0.01  0.01  0.03  0.05  0.07  0.09\n",
      "  0.11  0.13  0.15  0.17  0.19  0.21  0.23  0.25  0.27  0.29  0.31  0.33\n",
      "  0.35  0.37]\n"
     ]
    }
   ],
   "source": [
    "# pt_ys = PT_matrix[1, :][:, 0]\n",
    "pt_ys = PT_matrix[:, 1][:, 1]\n",
    "print(pt_ys)"
   ]
  },
  {
   "cell_type": "code",
   "execution_count": 63,
   "metadata": {},
   "outputs": [],
   "source": [
    "# # Current height if the barrier lower edge\n",
    "# y_barrier = 0.05\n",
    "# # Depth of the barrier (along Z axis)\n",
    "# barrier_depth = 0.01\n",
    "# # Z position of the barrier (along the axis of direct light)\n",
    "# z_barrier = l0 / 2\n",
    "\n",
    "# # find extreme y coordinates of light emitter for each PT cell\n",
    "# extreme_ys_led = np.zeros_like(pt_ys)\n",
    "# for i, extreme_y in enumerate(extreme_ys_led):\n",
    "#     dy = pt_ys[i] - y_barrier\n",
    "#     dz = 0\n",
    "#     if pt_ys[i] > y_barrier:\n",
    "#         dz = (l0 - z_barrier) - barrier_depth/2\n",
    "#     else:\n",
    "#         dy = np.sign(dy)\n",
    "#         dz = (l0 - z_barrier) + barrier_depth/2\n",
    "\n",
    "#     extreme_ys_led[i] = l0 * dy / dz\n",
    "\n",
    "# len(extreme_ys_led), len(pt_ys), ld_ys"
   ]
  },
  {
   "cell_type": "code",
   "execution_count": 288,
   "metadata": {},
   "outputs": [
    {
     "data": {
      "text/plain": [
       "array([ 1.24355301e+00,  1.20343840e+00,  1.16332378e+00,  1.12320917e+00,\n",
       "        1.08309456e+00,  1.04297994e+00,  1.00286533e+00,  9.62750716e-01,\n",
       "        9.22636103e-01,  8.82521490e-01,  8.42406877e-01,  8.02292264e-01,\n",
       "        7.62177650e-01,  7.22063037e-01,  6.81948424e-01,  6.41833811e-01,\n",
       "        6.01719198e-01,  5.61604585e-01,  5.21489971e-01,  4.81375358e-01,\n",
       "        4.41260745e-01,  4.01146132e-01,  3.61031519e-01,  3.20916905e-01,\n",
       "        2.80802292e-01,  2.40687679e-01,  2.00573066e-01,  1.60458453e-01,\n",
       "        1.20343840e-01,  8.02292264e-02,  4.01146132e-02,  2.22680836e-16,\n",
       "       -3.98860399e-02, -7.97720798e-02, -1.19658120e-01, -1.59544160e-01,\n",
       "       -1.99430199e-01, -2.39316239e-01])"
      ]
     },
     "execution_count": 288,
     "metadata": {},
     "output_type": "execute_result"
    }
   ],
   "source": [
    "# Current height if the barrier lower edge\n",
    "y_barrier = 0.25\n",
    "# Depth of the barrier (along Z axis)\n",
    "barrier_depth = 0.01\n",
    "# Z position of the barrier (along the axis of direct light)\n",
    "z_barrier = l0 / 2\n",
    "extreme_ys = np.zeros_like(pt_ys)\n",
    "\n",
    "for i, extreme_y in enumerate(extreme_ys):\n",
    "    y_pt = pt_ys[i]\n",
    "\n",
    "    dy = y_barrier - y_pt\n",
    "    dz = z_barrier\n",
    "    if (y_pt > y_barrier):\n",
    "        dz += (barrier_depth / 2)\n",
    "    else:\n",
    "        dz -= (barrier_depth / 2)\n",
    "\n",
    "    # dz += (barrier_depth / 2) * (-1) ** (y_pt > y_barrier)\n",
    "\n",
    "    extreme_ys[i] = dy * l0 / dz\n",
    "    \n",
    "extreme_ys"
   ]
  },
  {
   "cell_type": "code",
   "execution_count": 289,
   "metadata": {},
   "outputs": [
    {
     "data": {
      "text/plain": [
       "array([[ 0.52, -0.37],\n",
       "       [ 0.54, -0.37],\n",
       "       [ 0.56, -0.37],\n",
       "       [ 0.58, -0.37],\n",
       "       [ 0.6 , -0.37],\n",
       "       [ 0.62, -0.37],\n",
       "       [ 0.64, -0.37],\n",
       "       [ 0.66, -0.37],\n",
       "       [ 0.68, -0.37],\n",
       "       [ 0.7 , -0.37],\n",
       "       [ 0.72, -0.37]])"
      ]
     },
     "execution_count": 289,
     "metadata": {},
     "output_type": "execute_result"
    }
   ],
   "source": [
    "PT_matrix[0]"
   ]
  },
  {
   "cell_type": "code",
   "execution_count": 290,
   "metadata": {},
   "outputs": [],
   "source": [
    "# PT_intensity_barr = np.full(shape=pt_blindness.shape, fill_value=100000, dtype=np.float64)\n",
    "PT_intensity_barr = np.zeros_like(pt_blindness)\n",
    "\n",
    "# k = 0\n",
    "for i in range(PT_matrix.shape[0]):\n",
    "    # k +=1\n",
    "    for j in range(PT_matrix.shape[1]):\n",
    "        if pt_blind_x > i or pt_blind_y > j:\n",
    "            PT_intensity_barr[i, j] = calc_intensity_matrix_to_point(\n",
    "                PT_matrix[i, j],\n",
    "                LED_matrix,\n",
    "                led_map=LED_blindness_matrix,\n",
    "                l_0=l0,\n",
    "                I_0=1,\n",
    "                y_max=extreme_ys[i],\n",
    "            )\n",
    "# k"
   ]
  },
  {
   "cell_type": "code",
   "execution_count": 291,
   "metadata": {},
   "outputs": [
    {
     "data": {
      "text/plain": [
       "(0.7009102736849039, 0.7099994534621694)"
      ]
     },
     "execution_count": 291,
     "metadata": {},
     "output_type": "execute_result"
    }
   ],
   "source": [
    "np.max(PT_intensity - PT_intensity_barr), np.max(PT_intensity_barr)"
   ]
  },
  {
   "cell_type": "code",
   "execution_count": 292,
   "metadata": {},
   "outputs": [],
   "source": [
    "# from matplotlib.collections import PatchCollection\n",
    "# from matplotlib.patches import Rectangle\n",
    "\n",
    "# # Создаем график\n",
    "# fig, ax = plt.subplots()\n",
    "\n",
    "# # Визуализируем приемник света\n",
    "# for i in range(PT_matrix.shape[0]):\n",
    "#     for j in range(PT_matrix.shape[1]):\n",
    "#         x, y = PT_matrix[i][j]\n",
    "#         im = ax.scatter(\n",
    "#             x,\n",
    "#             y,\n",
    "#             c=0 if pt_blindness[i, j] == 0 else PT_intensity_barr[i, j],\n",
    "#             marker=\"s\",\n",
    "#             edgecolors='black',\n",
    "#             vmin=np.min(PT_intensity_barr),\n",
    "#             vmax=np.max(PT_intensity_barr),\n",
    "#         )\n",
    "\n",
    "\n",
    "# xy = 0, y_barrier\n",
    "# height = Y/2 - y_barrier\n",
    "# width = 0.8\n",
    "\n",
    "# ax.add_patch(Rectangle(xy, width=width, height=height, alpha=0.3))\n",
    "# fig.colorbar(im, ax=ax)\n",
    "\n",
    "# # Визуализируем источник света\n",
    "# for i in range(LED_matrix.shape[0]):\n",
    "#     for j in range(LED_matrix.shape[1]):\n",
    "#         x, y = LED_matrix[i][j]\n",
    "#         im = ax.scatter(\n",
    "#             x, y, c=\"orange\", marker=\"s\", s=500, edgecolors=\"black\", linewidths=0.05\n",
    "#         )\n",
    "#         if LED_blindness_matrix[i, j] == 0:\n",
    "#             ax.scatter(\n",
    "#                 x, y, c=\"indigo\", marker=\"s\", s=500, edgecolors=\"black\", linewidths=0.05\n",
    "#             )\n",
    "\n",
    "# # # Настраиваем оси\n",
    "# # ax.set_xlim([int(np.min(np.min(PT_matrix[:, :, 0], np.min(LED_matrix[:, :, 0])))), int(np.max(np.max(PT_matrix[:, :, 0], np.max(LED_matrix[:, :, 0]))))])\n",
    "# # ax.set_ylim([np.min(np.min(PT_matrix[:, :, 1], np.min(LED_matrix[:, :, 1]))), np.max(np.max(PT_matrix[:, :, 1], np.max(LED_matrix[:, :, 1])))])\n",
    "\n",
    "# plt.tick_params(left = False, bottom=False, labelleft = False, labelbottom = False) \n",
    "\n",
    "# ax.spines['top'].set_visible(False)\n",
    "# ax.spines['right'].set_visible(False)\n",
    "# ax.spines['bottom'].set_visible(False)\n",
    "# ax.spines['left'].set_visible(False)\n",
    "# # Отображаем график\n",
    "# plt.show()"
   ]
  },
  {
   "cell_type": "code",
   "execution_count": 293,
   "metadata": {},
   "outputs": [
    {
     "name": "stderr",
     "output_type": "stream",
     "text": [
      "/tmp/ipykernel_517924/3226787584.py:153: UserWarning: set_ticks() must have been called.\n",
      "  cb.set_ticklabels([0, 0.5, 1.00, round(np.min(PT_intensity_barr), 2),round(np.max(PT_intensity_barr), 2)])\n"
     ]
    },
    {
     "data": {
      "image/png": "[encoded data removed]",
      "text/plain": [
       "<Figure size 600x600 with 2 Axes>"
      ]
     },
     "metadata": {},
     "output_type": "display_data"
    }
   ],
   "source": [
    "# Создаем график\n",
    "\n",
    "# csfont = {'fontname':'Times New Roman'}\n",
    "plt.rcParams[\"font.family\"] = \"Times New Roman\"\n",
    "\n",
    "fig, ax = plt.subplots(figsize=(6, 6))\n",
    "\n",
    "labels_colors = [np.max(PT_intensity_barr), np.min(PT_intensity_barr), plt.cm.tab20(2) , plt.cm.tab20(0)]\n",
    "scatter_list = []\n",
    "scatter_labels = []\n",
    "edge_color = \"#000001\"\n",
    "text_color = plt.cm.tab20(14)\n",
    "labels = [\"PT active cell\", \"PT passive cell\", \"LED active cell\", \"LED passive cell\"]\n",
    "colors = [\"red\", \"black\", \"red\", \"black\", \"orange\", \"indigo\"]\n",
    "map_list = {\n",
    "    \"PT reference\": 0,\n",
    "    \"PT reference passive cell\": 1,\n",
    "    \"PT cell\": 0,\n",
    "    \"PT passive cell\": 1,\n",
    "    \"LED cell\": 2,\n",
    "    \"LED passive cell\": 3,\n",
    "}\n",
    "scatter_list = [0]*len(labels)\n",
    "\n",
    "# Визуализируем матрицу 1\n",
    "for i in range(PT_matrix_ref.shape[0]):\n",
    "    for j in range(PT_matrix_ref.shape[1]):\n",
    "        x, y = PT_matrix_ref[i][j]\n",
    "        scatter_list[0] = ax.scatter(\n",
    "            x,\n",
    "            y,\n",
    "            c=labels_colors[map_list[\"PT reference\"]],\n",
    "            marker=\"s\",\n",
    "            s=25,\n",
    "            # edgecolors=labels_colors[map_list[\"PT reference\"]] ,\n",
    "            alpha=0.8,\n",
    "            \n",
    "            # edgecolors=\"black\",\n",
    "            label=\"PT reference\",\n",
    "            vmin=np.min(PT_intensity_barr),\n",
    "            vmax=np.max(PT_intensity_barr),\n",
    "        )\n",
    "        \n",
    "for i in range(PT_matrix_ref.shape[0]):\n",
    "    for j in range(PT_matrix_ref.shape[1]):\n",
    "        x, y = PT_matrix_ref[i][j]\n",
    "        if pt_blindness[i, j] == 0:\n",
    "            scatter_list[1] = ax.scatter(\n",
    "                x,\n",
    "                y,\n",
    "                c=labels_colors[map_list[\"PT reference passive cell\"]],\n",
    "                marker=\"s\",\n",
    "                s=25,\n",
    "                # edgecolors=\"black\",\n",
    "                \n",
    "                alpha=1,\n",
    "                \n",
    "                # edgecolors=labels_colors[map_list[\"PT reference passive cell\"]] ,\n",
    "\n",
    "                label=\"PT reference passive cell\",\n",
    "                \n",
    "            )\n",
    "\n",
    "# Визуализируем матрицу 1\n",
    "for i in range(PT_matrix.shape[0]):\n",
    "    for j in range(PT_matrix.shape[1]):\n",
    "        x, y = PT_matrix[i][j]\n",
    "        im = ax.scatter(\n",
    "            x,\n",
    "            y,\n",
    "            c=PT_intensity_barr[i, j],\n",
    "            marker=\"s\",\n",
    "            s=25,\n",
    "            alpha=1 if PT_intensity_barr[i, j] == 0 else 0.8,\n",
    "            \n",
    "            # edgecolors='black',\n",
    "            vmin=np.min(PT_intensity_barr),\n",
    "            vmax=np.max(PT_intensity_barr),\n",
    "        )\n",
    "for i in range(PT_matrix.shape[0]):\n",
    "    for j in range(PT_matrix.shape[1]):\n",
    "        x, y = PT_matrix[i][j]\n",
    "        if pt_blindness[i, j] == 0:\n",
    "            im = ax.scatter(\n",
    "            x,\n",
    "            y,\n",
    "            c=0,\n",
    "            marker=\"s\",\n",
    "            s=25,\n",
    "            # alpha=0.8 if PT_intensity_barr[i, j] + pt_blindness[i, j] == 0 else 1,\n",
    "            \n",
    "            # edgecolors='black',\n",
    "            vmin=np.min(PT_intensity_barr),\n",
    "            vmax=np.max(PT_intensity_barr),\n",
    "        )\n",
    "        \n",
    "# Визуализируем матрицу 2\n",
    "for i in range(LED_matrix.shape[0]):\n",
    "    for j in range(LED_matrix.shape[1]):\n",
    "        x, y = LED_matrix[i][j]\n",
    "        scatter_list[2] = ax.scatter(\n",
    "            x,\n",
    "            y,\n",
    "            color=labels_colors[map_list[\"LED cell\"]],\n",
    "            marker=\"s\",\n",
    "            s=250,\n",
    "            # alpha=1,\n",
    "        \n",
    "            edgecolors=labels_colors[map_list[\"LED cell\"]] ,\n",
    "            # alpha=0.8,\n",
    "            # edgecolors=\"black\",\n",
    "            label=\"LED cell\",\n",
    "        )\n",
    "for i in range(LED_matrix.shape[0]):\n",
    "    for j in range(LED_matrix.shape[1]):\n",
    "        x, y = LED_matrix[i][j]\n",
    "        if LED_blindness_matrix[i, j] == 0:\n",
    "            scatter_list[3] = ax.scatter(\n",
    "                x,\n",
    "                y,\n",
    "                color=labels_colors[map_list[\"LED passive cell\"]],\n",
    "                marker=\"s\",\n",
    "                s=250,\n",
    "                # alpha=0.8,\n",
    "                edgecolors=labels_colors[map_list[\"LED passive cell\"]] ,\n",
    "                \n",
    "                label=\"LED passive cell\",\n",
    "            )\n",
    "\n",
    "\n",
    "# x, y = np.random.rand(2, len(colors))\n",
    "\n",
    "# print(x, y)\n",
    "\n",
    "# legend1 = ax.legend(scatter_list, labels, loc='upper right')\n",
    "\n",
    "# ax.annotate(\"PT Reference\", xy=(PT_matrix_ref[0][int(n_pt_columns/2)]), color=text_color, \n",
    "#             xytext=(-30,-16), textcoords=\"offset points\", weight='bold',)\n",
    "\n",
    "# ax.annotate(\"PT Measuring\", xy=(PT_matrix[0][int(n_pt_columns/2)]), color=text_color, \n",
    "#             xytext=(-30,-16), textcoords=\"offset points\", weight='bold',)\n",
    "\n",
    "# ax.annotate(\"LED\", xy=(LED_matrix[0][int(n_columns/2)]), color=text_color, \n",
    "#             xytext=(-10,-20), textcoords=\"offset points\", weight='bold',)\n",
    "\n",
    "xy = -X, y_barrier\n",
    "height = Y/2 - y_barrier\n",
    "width = X + 0.8\n",
    "\n",
    "ax.add_patch(Rectangle(xy, width=width, height=height, alpha=0.3))\n",
    "# cf = plt.contourf(PT_intensity_barr, levels=(0, 2.5, 5, 7.5, 10))\n",
    "cb = fig.colorbar(im, ax=ax, label='$\\Phi$')\n",
    "cb.set_ticklabels([0, 0.5, 1.00, round(np.min(PT_intensity_barr), 2),round(np.max(PT_intensity_barr), 2)])\n",
    "\n",
    "\n",
    "# fig.colorbar(im, ax=ax)\n",
    "\n",
    "# ax.add_artist(legend1)\n",
    "\n",
    "ax.set_axis_off()\n",
    "ax.set_xlim((-1, 0.8))\n",
    "ax.set_ylim((-1, 0.8))\n",
    "\n",
    "# Отображаем график\n",
    "plt.show()"
   ]
  },
  {
   "cell_type": "code",
   "execution_count": null,
   "metadata": {},
   "outputs": [],
   "source": []
  }
 ],
 "metadata": {
  "kernelspec": {
   "display_name": "notebooks",
   "language": "python",
   "name": "python3"
  },
  "language_info": {
   "codemirror_mode": {
    "name": "ipython",
    "version": 3
   },
   "file_extension": ".py",
   "mimetype": "text/x-python",
   "name": "python",
   "nbconvert_exporter": "python",
   "pygments_lexer": "ipython3",
   "version": "3.8.17"
  }
 },
 "nbformat": 4,
 "nbformat_minor": 2
}
