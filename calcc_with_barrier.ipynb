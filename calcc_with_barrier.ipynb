{
 "cells": [
  {
   "cell_type": "code",
   "execution_count": 2,
   "metadata": {},
   "outputs": [],
   "source": [
    "import numpy as np"
   ]
  },
  {
   "cell_type": "code",
   "execution_count": 3,
   "metadata": {},
   "outputs": [],
   "source": [
    "# FROM OMRON documentation\n",
    "# l0 = 5.1 - 2*(0.4)\n",
    "y_shift = 0\n",
    "x_shift = 0.4\n",
    "\n",
    "# FROM article\n",
    "l0 = 3.5                      \n",
    "O_ff = 0\n",
    "w = 0.1\n",
    "\n",
    "# sides of Infrared LED\n",
    "S1  = 0.35 \n",
    "S2 = 0.35 \n",
    "\n",
    "# sides of LED metal platform (approx)\n",
    "dps1 = 0.1\n",
    "dps2 = 0.1\n",
    "\n",
    "# sides of phototransistor\n",
    "X = 0.22\n",
    "Y = 0.76\n",
    "\n",
    "# sides of PT metal platform (approx)\n",
    "dpx = 0.16\n",
    "dpx = 0.29"
   ]
  },
  {
   "cell_type": "code",
   "execution_count": 26,
   "metadata": {},
   "outputs": [],
   "source": [
    "BARRIER_WINDOW = np.array([0.5, 0.5, 0.5])"
   ]
  },
  {
   "cell_type": "markdown",
   "metadata": {},
   "source": [
    "# Firstly, lets try to simulate how the lights achieves the barrier"
   ]
  },
  {
   "cell_type": "code",
   "execution_count": 27,
   "metadata": {},
   "outputs": [],
   "source": [
    "y = 0.0\n",
    "BARRIER_POS = 0.0, y, l0 / 2\n",
    "\n",
    "LED_POS = 0.0, 0.0, 0.0\n",
    "\n",
    "PT_POS = x_shift, y_shift, l0"
   ]
  },
  {
   "cell_type": "code",
   "execution_count": null,
   "metadata": {},
   "outputs": [],
   "source": [
    "# def calc_angle_to_barrier()"
   ]
  },
  {
   "cell_type": "code",
   "execution_count": 28,
   "metadata": {},
   "outputs": [],
   "source": [
    "led = np.array(LED_POS)\n",
    "pt = np.array(PT_POS)\n",
    "bar = np.array(BARRIER_POS)\n",
    "main_trace = led - pt"
   ]
  },
  {
   "cell_type": "code",
   "execution_count": 29,
   "metadata": {},
   "outputs": [
    {
     "data": {
      "text/plain": [
       "array([ 0.0567733 , -0.        ,  0.49676634])"
      ]
     },
     "execution_count": 29,
     "metadata": {},
     "output_type": "execute_result"
    }
   ],
   "source": [
    "n# point where barrier meets the main trace:\n",
    "B = (main_trace/np.linalg.norm(main_trace)) * bar[2]/main_trace[2]\n",
    "B"
   ]
  },
  {
   "cell_type": "code",
   "execution_count": 30,
   "metadata": {},
   "outputs": [
    {
     "data": {
      "text/plain": [
       "0.25"
      ]
     },
     "execution_count": 30,
     "metadata": {},
     "output_type": "execute_result"
    }
   ],
   "source": [
    "w_b, h_b, d_b = BARRIER_WINDOW\n",
    "\n",
    "barrier_area = w_b*h_b\n",
    "\n",
    "# def is_in_square(point: np.ndarray, square_center: np.ndarray, w, h, d):\n",
    "    \n",
    "#     return \n",
    "\n",
    "barrier_area"
   ]
  },
  {
   "cell_type": "code",
   "execution_count": 31,
   "metadata": {},
   "outputs": [],
   "source": [
    "def project_area_along_vector(vector_to_area:np.ndarray, area: float, vector_to_plane: np.ndarray) -> np.float32:\n",
    "    \"\"\"\n",
    "    Source - source of lights, area - surface area, vector to plane - the vector along vector_to_area.\n",
    "    \n",
    "    vector_to_area - vector from source to specified area\n",
    "    vector_to_plane - vector from source to needed point\n",
    "    area - area we need to project\n",
    "    \"\"\"\n",
    "    r_1 = np.linalg.norm(vector_to_area)\n",
    "    r_2 = np.linalg.norm(vector_to_plane)\n",
    "\n",
    "    result_area = area*(r_2/r_1)**2\n",
    "\n",
    "    return result_area"
   ]
  },
  {
   "cell_type": "code",
   "execution_count": 43,
   "metadata": {},
   "outputs": [
    {
     "data": {
      "text/plain": [
       "1.0"
      ]
     },
     "execution_count": 43,
     "metadata": {},
     "output_type": "execute_result"
    }
   ],
   "source": [
    "barrier_vec = bar - led\n",
    "pt_vec = pt - led\n",
    "\n",
    "# r_2/r1 coefficient\n",
    "k = pt_vec[2] / barrier_vec[2]\n",
    "\n",
    "surface_vec = barrier_vec * k\n",
    "\n",
    "res_area = project_area_along_vector(\n",
    "    area=barrier_area, vector_to_area=(bar - led), vector_to_plane=(surface_vec)\n",
    ")"
   ]
  },
  {
   "cell_type": "code",
   "execution_count": 44,
   "metadata": {},
   "outputs": [],
   "source": [
    "from collections import namedtuple\n",
    "Rectangle_tuple = namedtuple('Rectangle',  'xmin ymin xmax ymax')\n",
    "\n",
    "pt_left_bottom = pt - np.array([X/2, Y/2, l0])\n",
    "pt_right_up = pt + np.array([X/2, Y/2, l0])\n",
    "\n",
    "rec_pt = Rectangle_tuple(*pt_left_bottom[:2], *pt_right_up[:2])\n",
    "\n",
    "ill_spot = LED_POS + surface_vec\n",
    "ill_spot_left_bottom = ill_spot + BARRIER_WINDOW * k/2\n",
    "ill_spot_right_up = ill_spot - BARRIER_WINDOW * k/2\n",
    "rec_ill = Rectangle_tuple(*ill_spot_left_bottom[:2], *ill_spot_right_up[:2])"
   ]
  },
  {
   "cell_type": "code",
   "execution_count": 48,
   "metadata": {},
   "outputs": [
    {
     "data": {
      "image/png": "[encoded data removed]",
      "text/plain": [
       "<Figure size 640x480 with 1 Axes>"
      ]
     },
     "metadata": {},
     "output_type": "display_data"
    }
   ],
   "source": [
    "import matplotlib.pyplot as plt\n",
    "from matplotlib.patches import Rectangle\n",
    "from matplotlib.collections import PatchCollection\n",
    "\n",
    "\n",
    "\n",
    "# Create figure and axes\n",
    "fig, ax = plt.subplots(1)\n",
    "\n",
    "pt_box = Rectangle(pt_left_bottom, X, Y)\n",
    "sur_box = Rectangle(ill_spot_left_bottom, *BARRIER_WINDOW * k)\n",
    "\n",
    "# Create patch collection with specified colour/alpha\n",
    "pc = PatchCollection([pt_box,sur_box])\n",
    "\n",
    "# Add collection to axes\n",
    "ax.add_collection(pc)\n",
    "plt.show()"
   ]
  },
  {
   "cell_type": "code",
   "execution_count": 45,
   "metadata": {},
   "outputs": [],
   "source": [
    "def intersection_area(rect_1: Rectangle, rect_2: Rectangle):\n",
    "    dx = min(rect_1.xmax, rect_2.xmax) - max(rect_1.xmin, rect_2.xmin)\n",
    "    dy = min(rect_1.ymax, rect_2.ymax) - max(rect_1.ymin, rect_2.ymin)\n",
    "\n",
    "    return dx*dy"
   ]
  },
  {
   "cell_type": "code",
   "execution_count": 46,
   "metadata": {},
   "outputs": [
    {
     "data": {
      "text/plain": [
       "1.0"
      ]
     },
     "execution_count": 46,
     "metadata": {},
     "output_type": "execute_result"
    }
   ],
   "source": [
    "intersection_area(rec_pt, rec_ill)"
   ]
  },
  {
   "cell_type": "code",
   "execution_count": 23,
   "metadata": {},
   "outputs": [],
   "source": [
    "# barrier_trace = BARRIER_POS - LED_POS\n",
    "\n"
   ]
  },
  {
   "cell_type": "markdown",
   "metadata": {},
   "source": []
  }
 ],
 "metadata": {
  "kernelspec": {
   "display_name": "optical_modeling",
   "language": "python",
   "name": "python3"
  },
  "language_info": {
   "codemirror_mode": {
    "name": "ipython",
    "version": 3
   },
   "file_extension": ".py",
   "mimetype": "text/x-python",
   "name": "python",
   "nbconvert_exporter": "python",
   "pygments_lexer": "ipython3",
   "version": "3.8.17"
  }
 },
 "nbformat": 4,
 "nbformat_minor": 2
}
